{
 "cells": [
  {
   "cell_type": "markdown",
   "metadata": {},
   "source": [
    "# Problem 2"
   ]
  },
  {
   "cell_type": "markdown",
   "metadata": {},
   "source": [
    "In this Jupyter notebook, we visualize how HMMs work. This visualization corresponds to problem 2 in set 6.\n",
    "\n",
    "Assuming your HMM module is complete and saved at the correct location, you can simply run all cells in the notebook without modification."
   ]
  },
  {
   "cell_type": "code",
   "execution_count": 1,
   "metadata": {},
   "outputs": [],
   "source": [
    "import re\n",
    "import os\n",
    "import numpy as np\n",
    "from IPython.display import HTML\n",
    "\n",
    "from HMM import unsupervised_HMM\n",
    "from HMM_helper import (\n",
    "    text_to_wordcloud,\n",
    "    states_to_wordclouds,\n",
    "    parse_observations2,\n",
    "    sample_sentence,\n",
    "    visualize_sparsities,\n",
    "    animate_emission\n",
    ")"
   ]
  },
  {
   "cell_type": "markdown",
   "metadata": {},
   "source": [
    "## Visualization of the dataset"
   ]
  },
  {
   "cell_type": "markdown",
   "metadata": {},
   "source": [
    "We will be using the Constitution as our dataset. First, we visualize the entirety of the Constitution as a wordcloud:"
   ]
  },
  {
   "cell_type": "code",
   "execution_count": 2,
   "metadata": {
    "scrolled": false
   },
   "outputs": [],
   "source": [
    "text1 = open(os.path.join(os.getcwd(), 'data/shakespeare.txt')).read()\n",
    "text2 = open(os.path.join(os.getcwd(), 'data/spenser.txt')).read()"
   ]
  },
  {
   "cell_type": "markdown",
   "metadata": {},
   "source": [
    "## Training an HMM"
   ]
  },
  {
   "cell_type": "markdown",
   "metadata": {
    "collapsed": true
   },
   "source": [
    "Now we train an HMM on our dataset. We use 10 hidden states and train over 100 iterations:"
   ]
  },
  {
   "cell_type": "code",
   "execution_count": 3,
   "metadata": {},
   "outputs": [
    {
     "name": "stdout",
     "output_type": "stream",
     "text": [
      "0\n"
     ]
    }
   ],
   "source": [
    "obs, obs_map = parse_observations2(text1, text2)\n",
    "hmm1 = unsupervised_HMM(obs, 2, 1)"
   ]
  },
  {
   "cell_type": "markdown",
   "metadata": {},
   "source": [
    "## Part G: Visualization of the sparsities of A and O"
   ]
  },
  {
   "cell_type": "markdown",
   "metadata": {},
   "source": [
    "We can visualize the sparsities of the A and O matrices by treating the matrix entries as intensity values and showing them as images. What patterns do you notice?"
   ]
  },
  {
   "cell_type": "code",
   "execution_count": 5,
   "metadata": {},
   "outputs": [
    {
     "data": {
      "image/png": "[encoded data removed]",
      "text/plain": [
       "<Figure size 432x288 with 2 Axes>"
      ]
     },
     "metadata": {
      "needs_background": "light"
     },
     "output_type": "display_data"
    },
    {
     "data": {
      "image/png": "[encoded data removed]",
      "text/plain": [
       "<Figure size 432x288 with 2 Axes>"
      ]
     },
     "metadata": {
      "needs_background": "light"
     },
     "output_type": "display_data"
    }
   ],
   "source": [
    "visualize_sparsities(hmm1, O_max_cols=50)"
   ]
  },
  {
   "cell_type": "markdown",
   "metadata": {},
   "source": [
    "## Generating a sample sentence"
   ]
  },
  {
   "cell_type": "markdown",
   "metadata": {},
   "source": [
    "As you have already seen, an HMM can be used to generate sample sequences based on the given dataset. Run the cell below to show a sample sentence based on the Constitution."
   ]
  },
  {
   "cell_type": "code",
   "execution_count": 7,
   "metadata": {
    "scrolled": false
   },
   "outputs": [
    {
     "name": "stdout",
     "output_type": "stream",
     "text": [
      "Sample Sentence:\n",
      "====================\n",
      "And and fruit more start is time appear to praise whom adder's thus i pride when am proves sorrow wings that the committed love inheritors...\n"
     ]
    }
   ],
   "source": [
    "print('Sample Sentence:\\n====================')\n",
    "print(sample_sentence(hmm1, obs_map, n_words=25))"
   ]
  },
  {
   "cell_type": "markdown",
   "metadata": {},
   "source": [
    "## Part H: Using varying numbers of hidden states"
   ]
  },
  {
   "cell_type": "markdown",
   "metadata": {},
   "source": [
    "Using different numbers of hidden states can lead to different behaviours in the HMMs. Below, we train several HMMs with 1, 2, 4, and 16 hidden states, respectively. What do you notice about their emissions? How do these emissions compare to the emission above?"
   ]
  },
  {
   "cell_type": "code",
   "execution_count": null,
   "metadata": {},
   "outputs": [],
   "source": [
    "def gen_basic_sonnet(sentence):\n",
    "    sentence = re.sub(\"[^\\w]\", \" \",  sentence.lower()).split()\n",
    "    \n",
    "    filepath = 'data/Syllable_dictionary.txt'\n",
    "    dict = {}\n",
    "    with open(filepath) as fp:\n",
    "        for cnt, line in enumerate(fp):\n",
    "            lst = line.split()\n",
    "            if len(lst) > 2:\n",
    "                dict[lst[0]] = [lst[1], lst[2]]\n",
    "            else:\n",
    "                dict[lst[0]] = lst[-1]\n",
    "    \n",
    "    sonnet = \"\"\n",
    "    for l in range(14):\n",
    "        line = \"\"\n",
    "        syllables = 10\n",
    "        while syllables > 0 and len(sentence) > 0:\n",
    "            word = sentence.pop(0)\n",
    "            if word not in dict.keys():\n",
    "                continue\n",
    "            if len(dict[word]) > 1:\n",
    "                word_sylls = [int(s.replace('E', '')) for s in dict[word]]\n",
    "                word_sylls.sort()\n",
    "                if syllables - min(word_sylls) <= 0:\n",
    "                    syllables -= min(word_sylls)\n",
    "                elif syllables - max(word_sylls) > 0:\n",
    "                    syllables -= max(word_sylls)\n",
    "                else:\n",
    "                    syllables -= min(word_sylls)\n",
    "                line += (word + \" \")\n",
    "            else:\n",
    "                syllables -= int(dict[word])\n",
    "                line += (word + \" \")\n",
    "        sonnet += line + \"\\n\"\n",
    "    \n",
    "    return sonnet"
   ]
  },
  {
   "cell_type": "code",
   "execution_count": null,
   "metadata": {},
   "outputs": [],
   "source": [
    "hmm1 = unsupervised_HMM(obs, 1, 100)\n",
    "print('\\nSample Sentence:\\n====================')\n",
    "print(sample_sentence(hmm1, obs_map, n_words=25))"
   ]
  },
  {
   "cell_type": "code",
   "execution_count": null,
   "metadata": {},
   "outputs": [],
   "source": [
    "sent1 = sample_sentence(hmm1, obs_map, n_words=140)\n",
    "print(gen_basic_sonnet(sent1))"
   ]
  },
  {
   "cell_type": "code",
   "execution_count": null,
   "metadata": {},
   "outputs": [],
   "source": [
    "hmm2 = unsupervised_HMM(obs, 2, 100)\n",
    "print('\\nSample Sentence:\\n====================')\n",
    "print(sample_sentence(hmm2, obs_map, n_words=25))"
   ]
  },
  {
   "cell_type": "code",
   "execution_count": null,
   "metadata": {},
   "outputs": [],
   "source": [
    "sent2 = sample_sentence(hmm2, obs_map, n_words=140)\n",
    "print(gen_basic_sonnet(sent2))"
   ]
  },
  {
   "cell_type": "code",
   "execution_count": null,
   "metadata": {},
   "outputs": [],
   "source": [
    "hmm4 = unsupervised_HMM(obs, 4, 100)\n",
    "print('\\nSample Sentence:\\n====================')\n",
    "print(sample_sentence(hmm4, obs_map, n_words=25))"
   ]
  },
  {
   "cell_type": "code",
   "execution_count": null,
   "metadata": {},
   "outputs": [],
   "source": [
    "sent4 = sample_sentence(hmm4, obs_map, n_words=140)\n",
    "print(gen_basic_sonnet(sent4))"
   ]
  },
  {
   "cell_type": "code",
   "execution_count": null,
   "metadata": {},
   "outputs": [],
   "source": [
    "hmm16 = unsupervised_HMM(obs, 16, 100)\n",
    "print('\\nSample Sentence:\\n====================')\n",
    "print(sample_sentence(hmm16, obs_map, n_words=25))"
   ]
  },
  {
   "cell_type": "code",
   "execution_count": null,
   "metadata": {},
   "outputs": [],
   "source": [
    "sent16 = sample_sentence(hmm16, obs_map, n_words=140)\n",
    "print(gen_basic_sonnet(sent16))"
   ]
  },
  {
   "cell_type": "markdown",
   "metadata": {},
   "source": [
    "## Part I: Visualizing the wordcloud of each state"
   ]
  },
  {
   "cell_type": "markdown",
   "metadata": {},
   "source": [
    "Below, we visualize each state as a wordcloud by sampling a large emission from the state:"
   ]
  },
  {
   "cell_type": "code",
   "execution_count": null,
   "metadata": {
    "scrolled": false
   },
   "outputs": [],
   "source": [
    "wordclouds = states_to_wordclouds(hmm16, obs_map)"
   ]
  },
  {
   "cell_type": "markdown",
   "metadata": {},
   "source": [
    "## Visualizing the process of an HMM generating an emission"
   ]
  },
  {
   "cell_type": "markdown",
   "metadata": {},
   "source": [
    "The visualization below shows how an HMM generates an emission. Each state is shown as a wordcloud on the plot, and transition probabilities between the states are shown as arrows. The darker an arrow, the higher the transition probability.\n",
    "\n",
    "At every frame, a transition is taken and an observation is emitted from the new state. A red arrow indicates that the transition was just taken. If a transition stays at the same state, it is represented as an arrowhead on top of that state.\n",
    "\n",
    "Use fullscreen for a better view of the process."
   ]
  },
  {
   "cell_type": "code",
   "execution_count": null,
   "metadata": {
    "scrolled": false
   },
   "outputs": [],
   "source": [
    "anim = animate_emission(hmm16, obs_map, M=16)\n",
    "HTML(anim.to_html5_video())"
   ]
  },
  {
   "cell_type": "code",
   "execution_count": null,
   "metadata": {},
   "outputs": [],
   "source": []
  }
 ],
 "metadata": {
  "kernelspec": {
   "display_name": "Python 2",
   "language": "python",
   "name": "python2"
  },
  "language_info": {
   "codemirror_mode": {
    "name": "ipython",
    "version": 2
   },
   "file_extension": ".py",
   "mimetype": "text/x-python",
   "name": "python",
   "nbconvert_exporter": "python",
   "pygments_lexer": "ipython2",
   "version": "2.7.12"
  }
 },
 "nbformat": 4,
 "nbformat_minor": 2
}
